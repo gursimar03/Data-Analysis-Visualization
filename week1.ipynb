{
 "cells": [
  {
   "cell_type": "markdown",
   "metadata": {},
   "source": [
    "# Multiple Lenear Regression\n",
    "\n",
    "A delivery seervice offers the same delivery for letters, packages and small cargo. you are able to use google maps to group deliveries into one trip. Some trips have more than one delivery. you would like to estimate how long a delivery will take based on :\n",
    "\n",
    "- Total Distance of trip in kilometers \n",
    "- the number of deliveries that must be made\n",
    "\n",
    "Conduct the analysis take a random smaple of 10 past trips and record:\n",
    "* * Total Kilometers travelled\n",
    "* * Number of Devilveries \n",
    "* * Total time in hours\n",
    "\n"
   ]
  },
  {
   "cell_type": "markdown",
   "metadata": {},
   "source": []
  }
 ],
 "metadata": {
  "language_info": {
   "name": "python"
  }
 },
 "nbformat": 4,
 "nbformat_minor": 2
}
