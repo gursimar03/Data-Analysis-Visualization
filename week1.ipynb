{
 "cells": [
  {
   "cell_type": "markdown",
   "metadata": {},
   "source": [
    "# Multiple Lenear Regression\n",
    "\n",
    "A delivery seervice offers the same delivery for letters, packages and small cargo. you are able to use google maps to group deliveries into one trip. Some trips have more than one delivery. you would like to estimate how long a delivery will take based on :\n",
    "\n",
    "- Total Distance of trip in kilometers \n",
    "- the number of deliveries that must be made\n",
    "\n",
    "Conduct the analysis take a random smaple of 10 past trips and record:\n",
    "  * Total Kilometers travelled\n",
    "  * Number of Devilveries \n",
    "  * Total time in hours\n",
    "\n",
    "</br>\n",
    "<table>\n",
    "<tr>\n",
    " <th> Km Travelled</th>\n",
    " <th> Deliveries </th>\n",
    " <th> Time </th>\n",
    " </tr>\n",
    " <tr>\n",
    " <th>89</th>\n",
    " <th>4</th>\n",
    " <th>7</th>\n",
    " </tr>\n",
    " <tr>\n",
    " <th>66</th>\n",
    " <th>1</th>\n",
    " <th>5.4</th>\n",
    " </tr>\n",
    " <tr>\n",
    " <th>78</th>\n",
    " <th>3</th>\n",
    " <th>6.6</th>\n",
    " </tr>\n",
    " <tr>\n",
    " <th>111</th>\n",
    " <th>6</th>\n",
    " <th>7.4</th>\n",
    " </tr>\n",
    " <tr>\n",
    " <th>44</th>\n",
    " <th>1</th>\n",
    " <th>4.8</th>\n",
    " </tr>\n",
    " <tr>\n",
    " <th>77</th>\n",
    " <th>3</th>\n",
    " <th>6.4</th>\n",
    " </tr>\n",
    " <tr>\n",
    " <th>80</th>\n",
    " <th>3</th>\n",
    " <th>7</th>\n",
    " </tr>\n",
    " <tr>\n",
    " <th>66</th>\n",
    " <th>2</th>\n",
    " <th>5.4</th>\n",
    " </tr>\n",
    " <tr>\n",
    " <th>109</th>\n",
    " <th>5</th>\n",
    " <th>7.3</th>\n",
    " </tr>\n",
    " <tr>\n",
    " <th>76</th>\n",
    " <th>3</th>\n",
    " <th>6.4</th>\n",
    " </tr>\n",
    " </table>\n",
    "\n",
    " In what way does travel time depend on the other two variables?\n",
    "\n",
    " Travel time is the DEPENTENT variable ~ RESPONSE\n",
    " and others are INDEPENTENT ~ PREDICTOR\n",
    "\n",
    "New considerations when moving from simple to multiple regression:\n",
    "* Adding more indepentent variables to a multiple regression does not mean regression is better or that it will give better predictions, infact it can be worse. This is called OVERFITTING\n",
    "* Addtion of more indepentent variables creates from relationships between them. So not only we need to consider the independent variables and the the depentent variables we also need to consider relationship between indepentent variables. This is called MULTIPLE-COLINEARITY\n",
    "* The ideal situation is all indepentent variables to correlated with the dependent but not with each other.\n",
    "* Because of overfitting and multicolinearity, there is a ot of prep work before we start multiple regression.\n",
    "\n",
    "-------------------------------------\n",
    "\n",
    "<li>Scatter Plots</li>\n",
    "<li>Correlations</li>\n",
    "<li>Simple Regression between each of the independent variables and the dependent variables to see how they are related</li>\n",
    "<li>Scatter Plots</li>\n",
    "\n",
    "\n",
    "Important to consider which independent variables make the cut. Some independent or sets of independent variables are better at predicting the dependent variables than others. Some contribute nothing.\n",
    "\n",
    "Multiple regression model: $\\beta_0 + \\beta_1 x_1 + \\beta_2 x_2 + \\dots + \\beta_p x_p + \\epsilon$\n",
    "\n",
    "$y = 27 + 9x_1 + 12 x_2$\n",
    "\n",
    "* $x_1$ = capital invenstment (€1000s) \n",
    "* $x_2$ = marketing expenses (€1000s) \n",
    "* $y$ = predicted sales (€1000s)\n",
    "\n",
    "\n",
    "Each coefficient (9,12) is interpreted as the extimate in y corresponding to a 1 unit change in variable when all other variables are held fixed.\n",
    "\n",
    "€9000 is an estimate of the expected increase in sales y, corresponding to a €1000 increase in the captial investment $x_1$ when marketing expenditure $x_2$ is held fixed.\n",
    "\n",
    "\n",
    "As the owner you would like t o estimate thow long a delivery will take based on three factors:\n",
    "\n",
    "- Total distance (Kms)\n",
    "- the number of deliveries\n",
    "- flue price (€)\n",
    "\n",
    "** Exam Question : Conducting multiple regression requires the following steps:\n",
    "1. Generate list of independent and dependent variables\n",
    "2. Collect data on the variables \n",
    "3. Outliers \n",
    "4. Check the relationships between each indepedent variable and the dependent variable (using scatter plots and correlations)\n",
    "5. Check the relationships between the independent variables (using scatter plots and correlations)\n",
    "6. Conduct simple linear regressions for each IV/DV pair\n",
    "7. Use the non-redundant independent variables in the analysis to find the best fitting model\n",
    "8. Use the best fitting model to make predictions about the dependent variable\n",
    "\n",
    "</br>\n",
    "<table>\n",
    "<tr>\n",
    " <th> Km Travelled</th>\n",
    " <th> Deliveries </th>\n",
    " <th> Flue Prices</th>\n",
    " <th> Time </th>\n",
    " </tr>\n",
    " <tr>\n",
    " <th>89</th>\n",
    " <th>4</th>\n",
    " <th>3.84</th>\n",
    " <th>7</th>\n",
    " </tr>\n",
    " <tr>\n",
    " <th>66</th>\n",
    " <th>1</th>\n",
    " <th>3.19</th> \n",
    " <th>5.4</th>\n",
    " </tr>\n",
    " <tr>\n",
    " <th>78</th>\n",
    " <th>3</th>\n",
    " <th>3.78</th>\n",
    " <th>6.6</th>\n",
    " </tr>\n",
    " <tr>\n",
    " <th>111</th>\n",
    " <th>6</th>\n",
    " <th>3.89</th>\n",
    " <th>7.4</th>\n",
    " </tr>\n",
    " <tr>\n",
    " <th>44</th>\n",
    " <th>1</th>\n",
    " <th>3.57</th>\n",
    " <th>4.8</th>\n",
    " </tr>\n",
    " <tr>\n",
    " <th>77</th>\n",
    " <th>3</th>\n",
    " <th>3.57</th>\n",
    " <th>6.4</th>\n",
    " </tr>\n",
    " <tr>\n",
    " <th>80</th>\n",
    " <th>3</th>\n",
    " <th>3.03</th>\n",
    " <th>7</th>\n",
    " </tr>\n",
    " <tr>\n",
    " <th>66</th>\n",
    " <th>2</th>\n",
    " <th>3.51</th>\n",
    " <th>5.4</th>\n",
    " </tr>\n",
    " <tr>\n",
    " <th>109</th>\n",
    " <th>5</th>\n",
    " <th>3.54</th>\n",
    " <th>7.3</th>\n",
    " </tr>\n",
    " <tr>\n",
    " <th>76</th>\n",
    " <th>3</th>\n",
    " <th>3.25</th>\n",
    " <th>6.4</th>\n",
    " </tr>\n",
    " </table>\n",
    "\n"
   ]
  },
  {
   "cell_type": "code",
   "execution_count": 123,
   "metadata": {},
   "outputs": [],
   "source": [
    "miles_travelled = [89,66,78,111,44,77,80,66,109,76]\n",
    "time_taken = [7,5.6,6.6,7.4,4.8,6.4,7,5.6,7.3,6.4]\n",
    "fuel_prices = [3.84,3.19,3.78,3.89,3.57,3.57,3.03,3.51,3.54,3.25]\n",
    "number_of_deliveries = [4,1,3,6,1,3,3,2,5,3]"
   ]
  },
  {
   "cell_type": "code",
   "execution_count": 124,
   "metadata": {},
   "outputs": [
    {
     "data": {
      "text/plain": [
       "[<matplotlib.lines.Line2D at 0x7989b9063130>]"
      ]
     },
     "execution_count": 124,
     "metadata": {},
     "output_type": "execute_result"
    },
    {
     "data": {
      "image/png": "[encoded data removed]",
      "text/plain": [
       "<Figure size 640x480 with 1 Axes>"
      ]
     },
     "metadata": {},
     "output_type": "display_data"
    }
   ],
   "source": [
    "from matplotlib import pyplot as plt\n",
    "import numpy as np\n",
    "plt.title(\"miles_travelled v time_taken\")\n",
    "plt.xlabel(\"miles_travelled\")\n",
    "plt.ylabel(\"time_taken\")\n",
    "plt.scatter(miles_travelled,time_taken)\n",
    "plt.plot(np.unique(miles_travelled), np.poly1d(np.polyfit(miles_travelled, time_taken, 1))(np.unique(miles_travelled)))"
   ]
  },
  {
   "cell_type": "code",
   "execution_count": 125,
   "metadata": {},
   "outputs": [
    {
     "data": {
      "text/plain": [
       "[<matplotlib.lines.Line2D at 0x7989b90efc10>]"
      ]
     },
     "execution_count": 125,
     "metadata": {},
     "output_type": "execute_result"
    },
    {
     "data": {
      "image/png": "[encoded data removed]",
      "text/plain": [
       "<Figure size 640x480 with 1 Axes>"
      ]
     },
     "metadata": {},
     "output_type": "display_data"
    }
   ],
   "source": [
    "plt.title(\"number_of_deliveries v time_taken\")\n",
    "plt.xlabel(\"number_of_deliveries\")\n",
    "plt.ylabel(\"time_taken\")\n",
    "plt.scatter(number_of_deliveries,time_taken)\n",
    "plt.plot(np.unique(number_of_deliveries), np.poly1d(np.polyfit(number_of_deliveries, time_taken, 1))(np.unique(number_of_deliveries)))"
   ]
  },
  {
   "cell_type": "code",
   "execution_count": 126,
   "metadata": {},
   "outputs": [
    {
     "data": {
      "text/plain": [
       "[<matplotlib.lines.Line2D at 0x7989b8f6ead0>]"
      ]
     },
     "execution_count": 126,
     "metadata": {},
     "output_type": "execute_result"
    },
    {
     "data": {
      "image/png": "[encoded data removed]",
      "text/plain": [
       "<Figure size 640x480 with 1 Axes>"
      ]
     },
     "metadata": {},
     "output_type": "display_data"
    }
   ],
   "source": [
    "plt.title(\"fuel_prices v time_taken\")\n",
    "plt.xlabel(\"fuel_prices\")\n",
    "plt.ylabel(\"time_taken\")\n",
    "plt.scatter(fuel_prices,time_taken)\n",
    "plt.plot(np.unique(fuel_prices), np.poly1d(np.polyfit(fuel_prices, time_taken, 1))(np.unique(fuel_prices)))\n"
   ]
  },
  {
   "cell_type": "markdown",
   "metadata": {},
   "source": [
    "<b>Scatter Plot Summary</b>\n",
    "- travel time appears highly correlated with kilometer travelled\n",
    "- travel time appears highly corrleated with the number of deliveries\n",
    "- travel time does not appear to be correlated with fuel prices\n",
    "\n",
    "Since fuel prices does not appear to be correlated with time taken we would not use this variable in the regression.(leaving it in for testing purposes, should be thrown away at this stage)\n",
    "\n",
    "Next we need to look at IV to IV scatterplots"
   ]
  },
  {
   "cell_type": "code",
   "execution_count": 127,
   "metadata": {},
   "outputs": [
    {
     "data": {
      "text/plain": [
       "[<matplotlib.lines.Line2D at 0x7989b8fecd90>]"
      ]
     },
     "execution_count": 127,
     "metadata": {},
     "output_type": "execute_result"
    },
    {
     "data": {
      "image/png": "[encoded data removed]",
      "text/plain": [
       "<Figure size 640x480 with 1 Axes>"
      ]
     },
     "metadata": {},
     "output_type": "display_data"
    }
   ],
   "source": [
    "plt.title(\"miles_travelled v number_of_deliveries\")\n",
    "plt.xlabel(\"miles_travelled\")\n",
    "plt.ylabel(\"number_of_deliveries\")\n",
    "plt.scatter(miles_travelled,number_of_deliveries)\n",
    "plt.plot(np.unique(miles_travelled), np.poly1d(np.polyfit(miles_travelled, number_of_deliveries, 1))(np.unique(miles_travelled)))"
   ]
  },
  {
   "cell_type": "code",
   "execution_count": 128,
   "metadata": {},
   "outputs": [
    {
     "data": {
      "text/plain": [
       "[<matplotlib.lines.Line2D at 0x7989b932cf70>]"
      ]
     },
     "execution_count": 128,
     "metadata": {},
     "output_type": "execute_result"
    },
    {
     "data": {
      "image/png": "[encoded data removed]",
      "text/plain": [
       "<Figure size 640x480 with 1 Axes>"
      ]
     },
     "metadata": {},
     "output_type": "display_data"
    }
   ],
   "source": [
    "plt.title(\"miles_travelled v fuel_prices\")\n",
    "plt.xlabel(\"miles_travelled\")\n",
    "plt.ylabel(\"fuel_prices\")\n",
    "plt.scatter(miles_travelled,fuel_prices)\n",
    "plt.plot(np.unique(miles_travelled), np.poly1d(np.polyfit(miles_travelled, fuel_prices, 1))(np.unique(miles_travelled)))"
   ]
  },
  {
   "cell_type": "markdown",
   "metadata": {},
   "source": [
    "<b> IV to IV scatterplots</b>\n",
    "1. number of deliveries is highlhy corelated with miles travvelled (BAD)\n",
    "2. miles travelled does not appear correlated with fuel prices\n",
    "3. number of deliveries does not appear correlated with fuel prices"
   ]
  },
  {
   "cell_type": "code",
   "execution_count": 129,
   "metadata": {},
   "outputs": [],
   "source": [
    "from scipy.stats import pearsonr"
   ]
  },
  {
   "cell_type": "code",
   "execution_count": 130,
   "metadata": {},
   "outputs": [
    {
     "name": "stdout",
     "output_type": "stream",
     "text": [
      "PearsonRResult(statistic=np.float64(0.9359797573840752), pvalue=np.float64(6.799639429041273e-05))\n"
     ]
    }
   ],
   "source": [
    "corr = pearsonr(miles_travelled,time_taken)\n",
    "print(corr)"
   ]
  },
  {
   "cell_type": "markdown",
   "metadata": {},
   "source": [
    "Furst value is the correlation (very high in this case). second value is the p-value.\n",
    "that is the probability that this is a radnom occurrence. if the p-value is below 0.05 we say that it is statistically significant"
   ]
  },
  {
   "cell_type": "code",
   "execution_count": 131,
   "metadata": {},
   "outputs": [
    {
     "name": "stdout",
     "output_type": "stream",
     "text": [
      "PearsonRResult(statistic=np.float64(0.9071619282303782), pvalue=np.float64(0.0002901745766835027))\n"
     ]
    }
   ],
   "source": [
    "corr = pearsonr(number_of_deliveries,time_taken)\n",
    "print(corr)"
   ]
  },
  {
   "cell_type": "code",
   "execution_count": 132,
   "metadata": {},
   "outputs": [
    {
     "name": "stdout",
     "output_type": "stream",
     "text": [
      "PearsonRResult(statistic=np.float64(0.2444648050076564), pvalue=np.float64(0.4960628429496719))\n"
     ]
    }
   ],
   "source": [
    "corr = pearsonr(fuel_prices,time_taken)\n",
    "print(corr)"
   ]
  },
  {
   "cell_type": "code",
   "execution_count": 133,
   "metadata": {},
   "outputs": [
    {
     "name": "stdout",
     "output_type": "stream",
     "text": [
      "PearsonRResult(statistic=np.float64(0.9558982066200346), pvalue=np.float64(1.5690314407660928e-05))\n"
     ]
    }
   ],
   "source": [
    "corr = pearsonr(miles_travelled,number_of_deliveries)\n",
    "print(corr)"
   ]
  },
  {
   "cell_type": "code",
   "execution_count": 134,
   "metadata": {},
   "outputs": [
    {
     "name": "stdout",
     "output_type": "stream",
     "text": [
      "PearsonRResult(statistic=np.float64(0.35579623354708517), pvalue=np.float64(0.31296405908178965))\n"
     ]
    }
   ],
   "source": [
    "corr = pearsonr(miles_travelled,fuel_prices)\n",
    "print(corr)"
   ]
  },
  {
   "cell_type": "code",
   "execution_count": 135,
   "metadata": {},
   "outputs": [
    {
     "name": "stdout",
     "output_type": "stream",
     "text": [
      "PearsonRResult(statistic=np.float64(0.4982421647401633), pvalue=np.float64(0.142741207670319))\n"
     ]
    }
   ],
   "source": [
    "corr = pearsonr(number_of_deliveries,fuel_prices)\n",
    "print(corr)"
   ]
  },
  {
   "cell_type": "markdown",
   "metadata": {},
   "source": [
    "Corelation between miles traveled and number of deliveries is 0.955. Extremely strong. A massive red flag for multilinearlity\n",
    "- 0.0 -> 0.4 weak correlation\n",
    "- 0.4 -> 0.7 medium correlation\n",
    "- 0.7 and above is strong\n",
    "\n",
    "<b>IV Scatter plots and Pearson correlation </b>\n",
    "1. $r = 0.955 , p-value = 0.000156 XXXXXX$ Big Problem. These two independent variables should not be included together.\n",
    "2. $r = 0.332 , p-value = 0.347$ Very weak correlation. Good\n",
    "3. $r = 0.472 , p-value = 0.16$ Medium. Ok\n",
    "\n",
    "Two problematic variables are miles_travelled and numbers of devliveries. Only include 1 in the regression if we are not learning.\n",
    "\n",
    "<b>Correlation Summary</b>\n",
    "1. Correlation analysis confirms what we have seen in the scatter plots.\n",
    "2. Redundant multicolinear variables miles travelled nad number of deliveries are highly correlated with each other and therefor only one should be used in the multiple regression analysis.\n",
    "3. Non-contributing variable, fuel prices are not correlated with the dependent variable and should be excluded.\n",
    "\n",
    "<b>Review & Conclusions</b>\n",
    "1. THere is a lot of prep-work to do for multi-linear regression.\n",
    "2. Don't blindly mash buttons.\n",
    "3. Techniques \n",
    "    * Scatter plots\n",
    "    * Correlation\n",
    "    * Individual and group regressions\n",
    "\n",
    "For Learning & Testing we are leaving all IV variables\n",
    "Then we will remove the problematic variables to see what happens to the regression results\n",
    "We will also do simple regressions with the Dependent variable as baseline\n",
    "at the end we will get the best model.\n",
    "\n",
    "<b>Simple Linear Regression</b>\n",
    "1. First conduct simple linear regression for each IV separately\n",
    "2. We will interpret the results\n",
    "3. We will note how the results change:\n",
    "    * coefficients - values , t-statistics, p-value\n",
    "    * ANOVA analysis of variance, F-value, p-value\n",
    "    * R-squared, R-squared adjusted "
   ]
  },
  {
   "cell_type": "code",
   "execution_count": 136,
   "metadata": {},
   "outputs": [],
   "source": [
    "import numpy as np\n",
    "from sklearn.linear_model import LinearRegression"
   ]
  },
  {
   "cell_type": "code",
   "execution_count": 137,
   "metadata": {},
   "outputs": [
    {
     "name": "stdout",
     "output_type": "stream",
     "text": [
      "0.8760581062327523\n"
     ]
    }
   ],
   "source": [
    "model = LinearRegression()\n",
    "miles_travelled = np.array(miles_travelled).reshape(-1,1)\n",
    "model.fit(miles_travelled,time_taken)\n",
    "r_sq = model.score(miles_travelled,time_taken)\n",
    "print(r_sq)"
   ]
  },
  {
   "cell_type": "markdown",
   "metadata": {},
   "source": [
    "- R-squared is the % of variation in the dependent variable explained by the independent variable \n",
    "- standard error (SE) of the regression is the average distance of the points away from the regression line"
   ]
  },
  {
   "cell_type": "code",
   "execution_count": 138,
   "metadata": {},
   "outputs": [],
   "source": [
    "import statsmodels.api as sm"
   ]
  },
  {
   "cell_type": "code",
   "execution_count": 139,
   "metadata": {},
   "outputs": [
    {
     "name": "stdout",
     "output_type": "stream",
     "text": [
      "                            OLS Regression Results                            \n",
      "==============================================================================\n",
      "Dep. Variable:                      y   R-squared:                       0.876\n",
      "Model:                            OLS   Adj. R-squared:                  0.861\n",
      "Method:                 Least Squares   F-statistic:                     56.55\n",
      "Date:                Fri, 31 Jan 2025   Prob (F-statistic):           6.80e-05\n",
      "Time:                        16:34:48   Log-Likelihood:                -1.5253\n",
      "No. Observations:                  10   AIC:                             7.051\n",
      "Df Residuals:                       8   BIC:                             7.656\n",
      "Df Model:                           1                                         \n",
      "Covariance Type:            nonrobust                                         \n",
      "==============================================================================\n",
      "                 coef    std err          t      P>|t|      [0.025      0.975]\n",
      "------------------------------------------------------------------------------\n",
      "const          3.2657      0.430      7.597      0.000       2.275       4.257\n",
      "x1             0.0395      0.005      7.520      0.000       0.027       0.052\n",
      "==============================================================================\n",
      "Omnibus:                        1.171   Durbin-Watson:                   2.485\n",
      "Prob(Omnibus):                  0.557   Jarque-Bera (JB):                0.880\n",
      "Skew:                           0.600   Prob(JB):                        0.644\n",
      "Kurtosis:                       2.181   Cond. No.                         353.\n",
      "==============================================================================\n",
      "\n",
      "Notes:\n",
      "[1] Standard Errors assume that the covariance matrix of the errors is correctly specified.\n",
      "0.315107838119407\n"
     ]
    },
    {
     "name": "stderr",
     "output_type": "stream",
     "text": [
      "/home/gursimar/.local/lib/python3.10/site-packages/scipy/stats/_axis_nan_policy.py:430: UserWarning: `kurtosistest` p-value may be inaccurate with fewer than 20 observations; only n=10 observations were given.\n",
      "  return hypotest_fun_in(*args, **kwds)\n"
     ]
    }
   ],
   "source": [
    "miles_travelled = sm.add_constant(miles_travelled)\n",
    "model = sm.OLS(time_taken,miles_travelled)\n",
    "result = model.fit()\n",
    "print(result.summary())\n",
    "#next line gives the standard error\n",
    "print(result.scale**0.5)"
   ]
  },
  {
   "cell_type": "code",
   "execution_count": 140,
   "metadata": {},
   "outputs": [
    {
     "name": "stdout",
     "output_type": "stream",
     "text": [
      "                            OLS Regression Results                            \n",
      "==============================================================================\n",
      "Dep. Variable:                      y   R-squared:                       0.823\n",
      "Model:                            OLS   Adj. R-squared:                  0.801\n",
      "Method:                 Least Squares   F-statistic:                     37.18\n",
      "Date:                Fri, 31 Jan 2025   Prob (F-statistic):           0.000290\n",
      "Time:                        16:34:48   Log-Likelihood:                -3.3086\n",
      "No. Observations:                  10   AIC:                             10.62\n",
      "Df Residuals:                       8   BIC:                             11.22\n",
      "Df Model:                           1                                         \n",
      "Covariance Type:            nonrobust                                         \n",
      "==============================================================================\n",
      "                 coef    std err          t      P>|t|      [0.025      0.975]\n",
      "------------------------------------------------------------------------------\n",
      "const          4.9223      0.271     18.130      0.000       4.296       5.548\n",
      "x1             0.4799      0.079      6.098      0.000       0.298       0.661\n",
      "==============================================================================\n",
      "Omnibus:                        0.168   Durbin-Watson:                   1.886\n",
      "Prob(Omnibus):                  0.919   Jarque-Bera (JB):                0.071\n",
      "Skew:                          -0.054   Prob(JB):                        0.965\n",
      "Kurtosis:                       2.601   Cond. No.                         8.41\n",
      "==============================================================================\n",
      "\n",
      "Notes:\n",
      "[1] Standard Errors assume that the covariance matrix of the errors is correctly specified.\n",
      "0.3766231248422469\n"
     ]
    },
    {
     "name": "stderr",
     "output_type": "stream",
     "text": [
      "/home/gursimar/.local/lib/python3.10/site-packages/scipy/stats/_axis_nan_policy.py:430: UserWarning: `kurtosistest` p-value may be inaccurate with fewer than 20 observations; only n=10 observations were given.\n",
      "  return hypotest_fun_in(*args, **kwds)\n"
     ]
    }
   ],
   "source": [
    "number_of_deliveries = sm.add_constant(number_of_deliveries)\n",
    "model = sm.OLS(time_taken,number_of_deliveries)\n",
    "result = model.fit()\n",
    "print(result.summary())\n",
    "#next line gives the standard error\n",
    "print(result.scale**0.5)"
   ]
  },
  {
   "cell_type": "code",
   "execution_count": 141,
   "metadata": {},
   "outputs": [
    {
     "name": "stdout",
     "output_type": "stream",
     "text": [
      "                            OLS Regression Results                            \n",
      "==============================================================================\n",
      "Dep. Variable:                      y   R-squared:                       0.060\n",
      "Model:                            OLS   Adj. R-squared:                 -0.058\n",
      "Method:                 Least Squares   F-statistic:                    0.5085\n",
      "Date:                Fri, 31 Jan 2025   Prob (F-statistic):              0.496\n",
      "Time:                        16:34:48   Log-Likelihood:                -11.657\n",
      "No. Observations:                  10   AIC:                             27.31\n",
      "Df Residuals:                       8   BIC:                             27.92\n",
      "Df Model:                           1                                         \n",
      "Covariance Type:            nonrobust                                         \n",
      "==============================================================================\n",
      "                 coef    std err          t      P>|t|      [0.025      0.975]\n",
      "------------------------------------------------------------------------------\n",
      "const          3.8698      3.573      1.083      0.310      -4.369      12.109\n",
      "x1             0.7223      1.013      0.713      0.496      -1.613       3.058\n",
      "==============================================================================\n",
      "Omnibus:                        1.697   Durbin-Watson:                   2.856\n",
      "Prob(Omnibus):                  0.428   Jarque-Bera (JB):                0.866\n",
      "Skew:                          -0.697   Prob(JB):                        0.649\n",
      "Kurtosis:                       2.634   Cond. No.                         49.6\n",
      "==============================================================================\n",
      "\n",
      "Notes:\n",
      "[1] Standard Errors assume that the covariance matrix of the errors is correctly specified.\n",
      "0.8678982278291949\n"
     ]
    },
    {
     "name": "stderr",
     "output_type": "stream",
     "text": [
      "/home/gursimar/.local/lib/python3.10/site-packages/scipy/stats/_axis_nan_policy.py:430: UserWarning: `kurtosistest` p-value may be inaccurate with fewer than 20 observations; only n=10 observations were given.\n",
      "  return hypotest_fun_in(*args, **kwds)\n"
     ]
    }
   ],
   "source": [
    "fuel_prices = sm.add_constant(fuel_prices)\n",
    "model = sm.OLS(time_taken,fuel_prices)\n",
    "result = model.fit()\n",
    "print(result.summary())\n",
    "#next line gives the standard error\n",
    "print(result.scale**0.5)"
   ]
  },
  {
   "cell_type": "code",
   "execution_count": 142,
   "metadata": {},
   "outputs": [],
   "source": [
    "miles_travelled = [89,66,78,111,44,77,80,66,109,76]\n",
    "time_taken = [7,5.6,6.6,7.4,4.8,6.4,7,5.6,7.3,6.4]\n",
    "fuel_prices = [3.84,3.19,3.78,3.89,3.57,3.57,3.03,3.51,3.54,3.25]\n",
    "number_of_deliveries = [4,1,3,6,1,3,3,2,5,3]\n",
    "\n",
    "data = list(zip(miles_travelled,number_of_deliveries))"
   ]
  },
  {
   "cell_type": "code",
   "execution_count": 143,
   "metadata": {},
   "outputs": [
    {
     "name": "stdout",
     "output_type": "stream",
     "text": [
      "                            OLS Regression Results                            \n",
      "==============================================================================\n",
      "Dep. Variable:                      y   R-squared:                       0.878\n",
      "Model:                            OLS   Adj. R-squared:                  0.843\n",
      "Method:                 Least Squares   F-statistic:                     25.16\n",
      "Date:                Fri, 31 Jan 2025   Prob (F-statistic):           0.000637\n",
      "Time:                        16:34:48   Log-Likelihood:                -1.4521\n",
      "No. Observations:                  10   AIC:                             8.904\n",
      "Df Residuals:                       7   BIC:                             9.812\n",
      "Df Model:                           2                                         \n",
      "Covariance Type:            nonrobust                                         \n",
      "==============================================================================\n",
      "                 coef    std err          t      P>|t|      [0.025      0.975]\n",
      "------------------------------------------------------------------------------\n",
      "const          3.4927      0.841      4.152      0.004       1.504       5.482\n",
      "x1             0.0337      0.019      1.774      0.119      -0.011       0.079\n",
      "x2             0.0764      0.238      0.321      0.757      -0.486       0.639\n",
      "==============================================================================\n",
      "Omnibus:                        1.365   Durbin-Watson:                   2.386\n",
      "Prob(Omnibus):                  0.505   Jarque-Bera (JB):                0.913\n",
      "Skew:                           0.663   Prob(JB):                        0.633\n",
      "Kurtosis:                       2.342   Cond. No.                         670.\n",
      "==============================================================================\n",
      "\n",
      "Notes:\n",
      "[1] Standard Errors assume that the covariance matrix of the errors is correctly specified.\n",
      "0.3344093727566662\n"
     ]
    },
    {
     "name": "stderr",
     "output_type": "stream",
     "text": [
      "/home/gursimar/.local/lib/python3.10/site-packages/scipy/stats/_axis_nan_policy.py:430: UserWarning: `kurtosistest` p-value may be inaccurate with fewer than 20 observations; only n=10 observations were given.\n",
      "  return hypotest_fun_in(*args, **kwds)\n"
     ]
    }
   ],
   "source": [
    "data = sm.add_constant(data)\n",
    "model = sm.OLS(time_taken,data)\n",
    "result = model.fit()\n",
    "print(result.summary())\n",
    "#next line gives the standard error\n",
    "print(result.scale**0.5)"
   ]
  },
  {
   "cell_type": "code",
   "execution_count": 144,
   "metadata": {},
   "outputs": [
    {
     "name": "stdout",
     "output_type": "stream",
     "text": [
      "                            OLS Regression Results                            \n",
      "==============================================================================\n",
      "Dep. Variable:                      y   R-squared:                       0.880\n",
      "Model:                            OLS   Adj. R-squared:                  0.846\n",
      "Method:                 Least Squares   F-statistic:                     25.72\n",
      "Date:                Fri, 31 Jan 2025   Prob (F-statistic):           0.000595\n",
      "Time:                        16:34:48   Log-Likelihood:                -1.3541\n",
      "No. Observations:                  10   AIC:                             8.708\n",
      "Df Residuals:                       7   BIC:                             9.616\n",
      "Df Model:                           2                                         \n",
      "Covariance Type:            nonrobust                                         \n",
      "==============================================================================\n",
      "                 coef    std err          t      P>|t|      [0.025      0.975]\n",
      "------------------------------------------------------------------------------\n",
      "const          7.5651      1.464      5.168      0.001       4.103      11.027\n",
      "x1             0.5527      0.080      6.925      0.000       0.364       0.741\n",
      "x2            -0.8156      0.446     -1.830      0.110      -1.870       0.238\n",
      "==============================================================================\n",
      "Omnibus:                        1.167   Durbin-Watson:                   1.692\n",
      "Prob(Omnibus):                  0.558   Jarque-Bera (JB):                0.711\n",
      "Skew:                           0.214   Prob(JB):                        0.701\n",
      "Kurtosis:                       1.766   Cond. No.                         71.9\n",
      "==============================================================================\n",
      "\n",
      "Notes:\n",
      "[1] Standard Errors assume that the covariance matrix of the errors is correctly specified.\n",
      "0.3311478961595511\n"
     ]
    },
    {
     "name": "stderr",
     "output_type": "stream",
     "text": [
      "/home/gursimar/.local/lib/python3.10/site-packages/scipy/stats/_axis_nan_policy.py:430: UserWarning: `kurtosistest` p-value may be inaccurate with fewer than 20 observations; only n=10 observations were given.\n",
      "  return hypotest_fun_in(*args, **kwds)\n"
     ]
    }
   ],
   "source": [
    "data = list(zip(number_of_deliveries,fuel_prices))\n",
    "data = sm.add_constant(data)\n",
    "model = sm.OLS(time_taken,data)\n",
    "result = model.fit()\n",
    "print(result.summary())\n",
    "#next line gives the standard error\n",
    "print(result.scale**0.5)"
   ]
  },
  {
   "cell_type": "code",
   "execution_count": 145,
   "metadata": {},
   "outputs": [
    {
     "name": "stdout",
     "output_type": "stream",
     "text": [
      "                            OLS Regression Results                            \n",
      "==============================================================================\n",
      "Dep. Variable:                      y   R-squared:                       0.885\n",
      "Model:                            OLS   Adj. R-squared:                  0.852\n",
      "Method:                 Least Squares   F-statistic:                     26.94\n",
      "Date:                Fri, 31 Jan 2025   Prob (F-statistic):           0.000515\n",
      "Time:                        16:34:48   Log-Likelihood:                -1.1493\n",
      "No. Observations:                  10   AIC:                             8.299\n",
      "Df Residuals:                       7   BIC:                             9.206\n",
      "Df Model:                           2                                         \n",
      "Covariance Type:            nonrobust                                         \n",
      "==============================================================================\n",
      "                 coef    std err          t      P>|t|      [0.025      0.975]\n",
      "------------------------------------------------------------------------------\n",
      "const          4.1981      1.336      3.141      0.016       1.038       7.358\n",
      "x1            -0.2996      0.405     -0.739      0.484      -1.258       0.658\n",
      "x2             0.0410      0.006      7.089      0.000       0.027       0.055\n",
      "==============================================================================\n",
      "Omnibus:                        2.514   Durbin-Watson:                   2.618\n",
      "Prob(Omnibus):                  0.285   Jarque-Bera (JB):                0.966\n",
      "Skew:                           0.234   Prob(JB):                        0.617\n",
      "Kurtosis:                       1.551   Cond. No.                     1.11e+03\n",
      "==============================================================================\n",
      "\n",
      "Notes:\n",
      "[1] Standard Errors assume that the covariance matrix of the errors is correctly specified.\n",
      "[2] The condition number is large, 1.11e+03. This might indicate that there are\n",
      "strong multicollinearity or other numerical problems.\n",
      "0.324434016846215\n"
     ]
    },
    {
     "name": "stderr",
     "output_type": "stream",
     "text": [
      "/home/gursimar/.local/lib/python3.10/site-packages/scipy/stats/_axis_nan_policy.py:430: UserWarning: `kurtosistest` p-value may be inaccurate with fewer than 20 observations; only n=10 observations were given.\n",
      "  return hypotest_fun_in(*args, **kwds)\n"
     ]
    }
   ],
   "source": [
    "data = list(zip(fuel_prices,miles_travelled))\n",
    "data = sm.add_constant(data)\n",
    "\n",
    "model = sm.OLS(time_taken,data)\n",
    "result = model.fit()\n",
    "print(result.summary())\n",
    "#next line gives the standard error\n",
    "print(result.scale**0.5)"
   ]
  },
  {
   "cell_type": "markdown",
   "metadata": {},
   "source": [
    "Consider the model above. If  deliveries are held constant, then the travel time is expected to decrease by 0.7332 of an hour for every additional euro increase in the fuel price. this makes no sense. the p-value if 0.15 (>>0.05) indicates that this is going to be an issue "
   ]
  },
  {
   "cell_type": "code",
   "execution_count": 146,
   "metadata": {},
   "outputs": [
    {
     "name": "stdout",
     "output_type": "stream",
     "text": [
      "                            OLS Regression Results                            \n",
      "==============================================================================\n",
      "Dep. Variable:                      y   R-squared:                       0.899\n",
      "Model:                            OLS   Adj. R-squared:                  0.849\n",
      "Method:                 Least Squares   F-statistic:                     17.83\n",
      "Date:                Fri, 31 Jan 2025   Prob (F-statistic):            0.00216\n",
      "Time:                        16:34:48   Log-Likelihood:               -0.49560\n",
      "No. Observations:                  10   AIC:                             8.991\n",
      "Df Residuals:                       6   BIC:                             10.20\n",
      "Df Model:                           3                                         \n",
      "Covariance Type:            nonrobust                                         \n",
      "==============================================================================\n",
      "                 coef    std err          t      P>|t|      [0.025      0.975]\n",
      "------------------------------------------------------------------------------\n",
      "const          5.7982      2.210      2.624      0.039       0.391      11.206\n",
      "x1            -0.5641      0.502     -1.125      0.304      -1.791       0.663\n",
      "x2             0.2616      0.286      0.915      0.395      -0.438       0.961\n",
      "x3             0.0224      0.021      1.060      0.330      -0.029       0.074\n",
      "==============================================================================\n",
      "Omnibus:                        3.205   Durbin-Watson:                   2.262\n",
      "Prob(Omnibus):                  0.201   Jarque-Bera (JB):                1.260\n",
      "Skew:                           0.463   Prob(JB):                        0.533\n",
      "Kurtosis:                       1.529   Cond. No.                     1.79e+03\n",
      "==============================================================================\n",
      "\n",
      "Notes:\n",
      "[1] Standard Errors assume that the covariance matrix of the errors is correctly specified.\n",
      "[2] The condition number is large, 1.79e+03. This might indicate that there are\n",
      "strong multicollinearity or other numerical problems.\n",
      "0.32825457701043487\n"
     ]
    },
    {
     "name": "stderr",
     "output_type": "stream",
     "text": [
      "/home/gursimar/.local/lib/python3.10/site-packages/scipy/stats/_axis_nan_policy.py:430: UserWarning: `kurtosistest` p-value may be inaccurate with fewer than 20 observations; only n=10 observations were given.\n",
      "  return hypotest_fun_in(*args, **kwds)\n"
     ]
    }
   ],
   "source": [
    "data = list(zip(fuel_prices,number_of_deliveries,miles_travelled))\n",
    "data = sm.add_constant(data)\n",
    "model = sm.OLS(time_taken,data)\n",
    "result = model.fit()\n",
    "print(result.summary())\n",
    "#next line gives the standard error\n",
    "print(result.scale**0.5)"
   ]
  },
  {
   "cell_type": "markdown",
   "metadata": {},
   "source": [
    "How do we choose the best model?\n",
    "1. $R^2 adjusted$\n",
    "2. the standard error\n",
    "3. the AIC and BIC to be as low as possible\n",
    "4. consider the p-value for all the coefficients in the model. if they are not all significant this indicates a problem\n",
    "5. consider the model. Does it make sense? often if the co-eft are not significant they are basically random.\n",
    "6. if they condition number is high it is usually a good indicator of problems.\n",
    "7. All else being equal the simplest model is the best\n",
    "\n",
    "\n",
    "** Exam question would be to evalutate the best model out of the given ANOVAs\n"
   ]
  },
  {
   "cell_type": "markdown",
   "metadata": {},
   "source": [
    "<b>Interval data</b>\n",
    "- number of cars in a car park\n",
    "- age\n",
    "- value of something in €\n",
    "- Temperature\n",
    "\n",
    "<b> Categorical data</b>\n",
    "- Day of the week\n",
    "- General \n",
    "- types of cuisines\n",
    "- color "
   ]
  }
 ],
 "metadata": {
  "kernelspec": {
   "display_name": "Python 3",
   "language": "python",
   "name": "python3"
  },
  "language_info": {
   "codemirror_mode": {
    "name": "ipython",
    "version": 3
   },
   "file_extension": ".py",
   "mimetype": "text/x-python",
   "name": "python",
   "nbconvert_exporter": "python",
   "pygments_lexer": "ipython3",
   "version": "3.10.12"
  }
 },
 "nbformat": 4,
 "nbformat_minor": 2
}
